{
 "cells": [
  {
   "cell_type": "code",
   "execution_count": null,
   "metadata": {},
   "outputs": [],
   "source": [
    "from pydataxm import *                           #Se realiza la importación de las librerias necesarias para ejecutar\n",
    "import datetime as dt  \n",
    "import json\n",
    "\n",
    "import numpy as np\n",
    "import pandas as pd\n",
    "import matplotlib.pyplot as plt\n",
    "\n",
    "\n",
    "objetoAPI = pydataxm.ReadDB()                    #Se almacena el servicio en el nombre objetoAPI\n",
    "\n",
    "# df =objetoAPI.get_collections() #El método get_collection sin argumentos retorna todas las variables que se tienen disponible en la API y que se pueden consultar  \n",
    "# df.head()                       #Se presentan como ejemplo las 5 primeras varibles disponibles\n",
    "\n",
    "# df = df.to_json()\n",
    "\n",
    "# # with open('MetricsList.json', 'w') as outfile:\n",
    "# #     json.dump(df, outfile)\n",
    "\n",
    "df_variable = objetoAPI.request_data(\n",
    "                    \"DemaReal\",                    #Se indica el nombre de la métrica tal como se llama en el campo metricId\n",
    "                    \"Agente\",                      #Se indica el nombre de la entidad tal como se llama en el campo Entity\n",
    "                    dt.date(2021, 4, 29),           #Corresponde a la fecha inicial de la consulta\n",
    "                    dt.date(2021, 4, 30),          #Corresponde a la fecha final de la consulta\n",
    "                    filtros =['CDNC'])     #Se indican los códigos SIC de plantas dentro de una lista\n"
   ]
  },
  {
   "cell_type": "code",
   "execution_count": null,
   "metadata": {},
   "outputs": [],
   "source": [
    "df_variable.head()"
   ]
  }
 ],
 "metadata": {
  "language_info": {
   "name": "python"
  }
 },
 "nbformat": 4,
 "nbformat_minor": 2
}
